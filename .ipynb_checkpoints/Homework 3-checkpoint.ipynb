{
 "cells": [
  {
   "cell_type": "markdown",
   "metadata": {},
   "source": [
    "# Problem 1"
   ]
  },
  {
   "cell_type": "markdown",
   "metadata": {},
   "source": [
    "### Classes to implement k-means"
   ]
  },
  {
   "cell_type": "code",
   "execution_count": 17,
   "metadata": {},
   "outputs": [],
   "source": [
    "import random\n",
    "\n",
    "class Point:\n",
    "  def __init__(self, attrs, id=None, cluster=None):\n",
    "    self.attrs = attrs\n",
    "    if id is not None:\n",
    "      self.id = id\n",
    "    self.id = -1\n",
    "    self.cluster = None\n",
    "\n",
    "  def __getitem__(self, i):\n",
    "    return self.attrs[i]\n",
    "\n",
    "  def __getattr__(self, attr):\n",
    "    if attr == 'x':\n",
    "      return self.attrs[0]\n",
    "    elif attr == 'y':\n",
    "      return self.attrs[1]\n",
    "    elif attr == 'attrs':\n",
    "      return self.attrs\n",
    "    elif attr == 'id':\n",
    "      return self.id\n",
    "    elif attr == 'cluster':\n",
    "      return self.cluster\n",
    "\n",
    "  def dist_to(self, other):\n",
    "    the_sum = 0\n",
    "    for i in range(len(self.attrs)):\n",
    "      # if (type(self.attrs[i]) is int or type(self.attrs[i]) is float)\\\n",
    "      #     and (type(other.attrs[i] is int or type(other.attrs[i] is float))):\n",
    "        the_sum += (self.attrs[i] - other.attrs[i]) ** 2\n",
    "    return the_sum ** 0.5\n",
    "\n",
    "  def setCluster(self, cluster):\n",
    "    self.cluster = cluster.id\n",
    "\n",
    "  def __repr__(self):\n",
    "    return str(self.attrs)\n",
    "\n",
    "  @staticmethod\n",
    "  def _parseNum(num):\n",
    "    split = num.split('E')\n",
    "    return float(split[0]) * 10 ** int(split[1])\n",
    "\n",
    "  @staticmethod\n",
    "  def parseCoord(coord):\n",
    "    x = Point._parseNum(coord[0])\n",
    "    y = Point._parseNum(coord[1])\n",
    "\n",
    "    return [x, y]\n",
    "  \n",
    "  def __eq__(self, other):\n",
    "    if len(self.attrs) != len(other.attrs):\n",
    "      return False\n",
    "    \n",
    "    for i in range(len(self.attrs)):\n",
    "      if (type(self.attrs[i]) is int or type(self.attrs[i]) is float)\\\n",
    "          and (type(other.attrs[i] is int or type(other.attrs[i] is float))):\n",
    "          if self.attrs[i] != other.attrs[i]:\n",
    "            return False\n",
    "\n",
    "    return True\n",
    "\n",
    "  \n",
    "  def __ne__(self, other):\n",
    "    return not self == other\n",
    "\n",
    "\n",
    "class Cluster:\n",
    "  def __init__(self, center, id, points=None):\n",
    "    self.center = center\n",
    "    if points is not None:\n",
    "      self.points = points\n",
    "    else:\n",
    "      self.points = []\n",
    "\n",
    "    self.id = id\n",
    "  def reCalcCenter(self):\n",
    "    if len(self.points) == 0:\n",
    "      return\n",
    "    var_sum = [0 for _ in self.center.attrs]\n",
    "\n",
    "    for p in self.points:\n",
    "      for i in range(len(p.attrs)):\n",
    "        var_sum[i] += p[i]\n",
    "    \n",
    "    new_attrs = [var_sum[i] / len(self.points) for i in range(len(self.center.attrs))]\n",
    "\n",
    "    self.center = Point(new_attrs)\n",
    "  \n",
    "  def clear(self):\n",
    "    self.points.clear()\n",
    "\n",
    "  def addPoint(self, point):\n",
    "    self.points.append(point)\n",
    "  \n",
    "  def remPoint(self, point):\n",
    "    for i, p in enumerate(self.points):\n",
    "      if p == point:\n",
    "        del self.points[i]\n",
    "        return True\n",
    "    return False\n",
    "\n",
    "  def __repr__(self):\n",
    "    return str(self.center)\n",
    "\n",
    "\n",
    "def getMinMax(points):\n",
    "  minMax = [[None, None] for _ in range(len(points[0].attrs))]\n",
    "\n",
    "  for p in points:\n",
    "    for i, a in enumerate(p.attrs):\n",
    "      if minMax[i][0] is not None and a < minMax[i][0]:\n",
    "        minMax[i][0] = a\n",
    "      elif minMax[i][0] is None:\n",
    "        minMax[i][0] = a\n",
    "\n",
    "      if minMax[i][1] is not None and minMax[i][1] < a:\n",
    "        minMax[i][1] = a\n",
    "      elif minMax[i][1] is None:\n",
    "        minMax[i][1] = a\n",
    "      \n",
    "  return minMax\n"
   ]
  },
  {
   "cell_type": "markdown",
   "metadata": {},
   "source": [
    "## Visualization"
   ]
  },
  {
   "cell_type": "code",
   "execution_count": 18,
   "metadata": {},
   "outputs": [],
   "source": [
    "from PIL import Image, ImageDraw, ImageFont\n",
    "\n",
    "def plot_points(points, fill='blue', image=None, pRange=None, label=None, axis=False):\n",
    "    if pRange is None:\n",
    "      minX = min([p.x for p in points])\n",
    "      maxX = max([p.x for p in points])\n",
    "      minY = min([p.y for p in points])\n",
    "      maxY = max([p.y for p in points])\n",
    "\n",
    "    else:\n",
    "      minX = pRange[0]\n",
    "      maxX = pRange[1]\n",
    "      minY = pRange[2]\n",
    "      maxY = pRange[3]\n",
    "\n",
    "    size = 800\n",
    "    xRange = max(maxX - minX, 0.01)\n",
    "    yRange = max(maxY - minY, 0.01)\n",
    "\n",
    "    padding = [20, 20, 20, 20] # top, right, bottom, left\n",
    "    if axis:\n",
    "      padding = [70, 10, 10, 70]\n",
    "\n",
    "    axisSize = [45, 65] # [x axis height, y axis width]\n",
    "    \n",
    "    xExp = (size - (padding[1] + padding[3])) / xRange\n",
    "    yExp = (size - (padding[0] + padding[2])) / yRange\n",
    "\n",
    "    offsetX = padding[3]\n",
    "    offsetY = padding[0]\n",
    "\n",
    "    for p in points:\n",
    "      p.x -= minX\n",
    "      p.y -= minY\n",
    "    \n",
    "    radius = 5\n",
    "    if image is None:\n",
    "        image = Image.new(\"RGB\", (size, size))\n",
    "   \n",
    "    draw = ImageDraw.Draw(image)\n",
    "\n",
    "    font = ImageFont.truetype('arial.ttf', 20)\n",
    "    if label is not None:\n",
    "      draw.text((offsetX + xExp * points[0].x - 30, offsetY + yExp * points[0].y + 15), label, fill=fill, font=font)\n",
    "\n",
    "\n",
    "    if axis:\n",
    "      ## Axis lines\n",
    "      # X Axis\n",
    "      draw.line(((axisSize[1], axisSize[0]), (axisSize[1], size)), fill='white', width=5)\n",
    "      draw.line(((axisSize[1], axisSize[0]), (size, axisSize[0])), fill='white', width=5)\n",
    "      for i in range(axisSize[0], 801, 100):\n",
    "        ## X Axis Labels and Ticks\n",
    "        if i == axisSize[0]:\n",
    "          continue\n",
    "        draw.line(((i, axisSize[0]), (i, axisSize[0] + 5)), fill='white')\n",
    "        draw.text((i - 22, axisSize[0] - 22), \"{:.3f}\".format((i - axisSize[0]) / xExp), font=font)\n",
    "\n",
    "      \n",
    "      for i in range(axisSize[1], 801, 100):\n",
    "        ## Y Axis Label and Ticks\n",
    "        draw.line(((axisSize[1], i), (axisSize[1], i)), fill='white')\n",
    "        draw.text((1, i - 10), \"{:.3f}\".format((i - axisSize[1]) / yExp), font=font)\n",
    "\n",
    "      # Axis Labels\n",
    "      draw.text((0, size - 20), 'Length', font=font)\n",
    "      draw.text((size - 70, axisSize[0] - 40), \"Width\", font=font)\n",
    "  \n",
    "    for p in points:\n",
    "        draw.ellipse((offsetX + xExp * p.x - radius,\n",
    "                      offsetY + yExp * p.y - radius,\n",
    "                      offsetX + xExp * p.x + radius,\n",
    "                      offsetY + yExp * p.y + radius), fill=fill)\n",
    "\n",
    "    return image, [minX, maxX, minY, maxY]\n"
   ]
  },
  {
   "cell_type": "markdown",
   "metadata": {},
   "source": [
    "## K-Means"
   ]
  },
  {
   "cell_type": "code",
   "execution_count": 19,
   "metadata": {},
   "outputs": [],
   "source": [
    "def kmeans(points, num_clusters, plot=False):\n",
    "  \"\"\"\n",
    "  Group points into n clusters (num_clusters) using k-means\n",
    "  points: Points to be clustered\n",
    "  num_clusters: Number of clusters\n",
    "  plot: If true will plot the clusters after every iteration, false will do nothing\n",
    "  \"\"\"\n",
    "  minMax = getMinMax(points)\n",
    "  clusters = []\n",
    "\n",
    "  for i in range(num_clusters):\n",
    "    attrs = []\n",
    "    for key in range(len(points[0].attrs)):\n",
    "      # attrs.append(0)\n",
    "      attrs.append(random.uniform(minMax[key][0], minMax[key][1]))\n",
    "\n",
    "    clusters.append(Cluster(Point(attrs), i))\n",
    "\n",
    "  while True:\n",
    "    for p in points:\n",
    "      min_dist = None\n",
    "      min_clust_index = None\n",
    "      for i, c in enumerate(clusters):\n",
    "        dist = p.dist_to(c.center)\n",
    "\n",
    "        if min_dist is None or dist < min_dist:\n",
    "          min_dist = dist\n",
    "          min_clust_index = i\n",
    "      clusters[min_clust_index].addPoint(p)\n",
    "\n",
    "    anyChange = False\n",
    "    for i, c in enumerate(clusters):\n",
    "      oldCenter = c.center\n",
    "      c.reCalcCenter()\n",
    "      if oldCenter != c.center:\n",
    "        anyChange = True\n",
    "\n",
    "\n",
    "  \n",
    "\n",
    "\n",
    "    \n",
    "    if not anyChange:\n",
    "      break\n",
    "    else:\n",
    "      # Clears all data in clusters for another iteration\n",
    "      [c.clear() for c in clusters]\n",
    "\n",
    "  return clusters\n",
    "\n",
    "def predict(clusters, example):\n",
    " \n",
    "  min_dist = None\n",
    "  min_clust_index = None\n",
    "  for i, c in enumerate(clusters):\n",
    "    dist = example.dist_to(c.center)\n",
    "\n",
    "    if min_dist is None or dist < min_dist:\n",
    "      min_dist = dist\n",
    "      min_clust_index = i\n",
    "  \n",
    "  return min_clust_index\n"
   ]
  },
  {
   "cell_type": "markdown",
   "metadata": {},
   "source": [
    "## Run K-Means on cluster_data.txt and display results"
   ]
  },
  {
   "cell_type": "code",
   "execution_count": 25,
   "metadata": {},
   "outputs": [
    {
     "data": {
      "image/png": "[encoded data removed]",
      "text/plain": [
       "<PIL.Image.Image image mode=RGB size=800x800 at 0x13EAE686630>"
      ]
     },
     "metadata": {},
     "output_type": "display_data"
    }
   ],
   "source": [
    "def getPointsFromFile(file):\n",
    "\n",
    "  with open(file, 'r') as theFile:\n",
    "    points = []\n",
    "    split = theFile.read().split('\\n') \n",
    "    for line in split:\n",
    "      if line != '':\n",
    "        point_split = line.split('\\t')\n",
    "        point = Point(Point.parseCoord(point_split[1:]), int(point_split[0]))\n",
    "        points.append(point)\n",
    "    return points\n",
    "\n",
    "\n",
    "points = getPointsFromFile('cluster_data.txt') # Loads points from Fil\n",
    "# Points are in format [Point(x,y), Point(x,y), ..., Point(x,y)]\n",
    "# Where Point is a point object defined at the top of the file\\\n",
    "minX = min([p.x for p in points])\n",
    "maxX = max([p.x for p in points])\n",
    "minY = min([p.y for p in points])\n",
    "maxY = max([p.y for p in points])\n",
    "pRange = [minX, maxX, minY, maxY] # Gets maximum and minimum values to plot effectively\n",
    "clusters = kmeans(points, 2) # Runs K-Means\n",
    "\n",
    "\n",
    "## Code below used to plot data on an image and display it. \n",
    "img, _ = plot_points([Point([-100 for _ in points[0].attrs])], fill='black') # Creates empty image, just leave this code\n",
    "\n",
    "colors = ['red', 'blue', 'white', 'purple', 'orange', 'navy'] # Available colors for clusters\n",
    "for i, c in enumerate(clusters):\n",
    "    # Plots individual points from the cluster\n",
    "    img, _ = plot_points(c.points, fill=colors[i], image=img, pRange=pRange, axis=True) \n",
    "    # Plots the clusters centers and labels them\n",
    "    img, _ = plot_points([c.center], fill='green', image=img, pRange=pRange, \n",
    "                         label='Cluster ' + str(i + 1), axis=True)\n",
    "\n",
    "\n",
    "display(img) # Displays image in output"
   ]
  },
  {
   "cell_type": "markdown",
   "metadata": {},
   "source": [
    "## Findings Explanation\n",
    "Based on the visualization it it appears there are two clusters. When k-means is set to 2 it clusters the data properly. "
   ]
  },
  {
   "cell_type": "markdown",
   "metadata": {},
   "source": [
    "# Problem 2"
   ]
  },
  {
   "cell_type": "markdown",
   "metadata": {},
   "source": [
    "## Logistic Regression Implementation"
   ]
  },
  {
   "cell_type": "code",
   "execution_count": 29,
   "metadata": {},
   "outputs": [],
   "source": [
    "import numpy as np \n",
    "from math import e\n",
    "\n",
    "\n",
    "def sigmoid(z):\n",
    "  return (1.0 / (1.0 + e ** -z))\n",
    "\n",
    "class LogisticRegression:\n",
    "\n",
    "  def predict(self, X):\n",
    "    z = np.dot(X, self.w)\n",
    "    return (1.0 / (1.0 + e ** -z)) ## Sigmoid\n",
    "\n",
    "  \n",
    "  def fit(self, X, y, alpha=500, lam_bda=1, cycles=1000000):\n",
    "\n",
    "    self.w = np.zeros(len(X[0]))\n",
    "    self.m = len(X)\n",
    "    self.n = len(X[0])\n",
    "\n",
    "    for _ in range(cycles):\n",
    "    \n",
    "      predictions = self.predict(X)\n",
    "\n",
    "      gradient = np.dot(X.T, predictions - y) + (lam_bda / self.m) * sum(self.w)\n",
    "\n",
    "      gradient = gradient * (alpha / self.m)\n",
    "\n",
    "      self.w -= gradient\n",
    "\n"
   ]
  },
  {
   "cell_type": "markdown",
   "metadata": {},
   "source": [
    "### Code to run LogisticRegression"
   ]
  },
  {
   "cell_type": "code",
   "execution_count": 15,
   "metadata": {},
   "outputs": [
    {
     "name": "stdout",
     "output_type": "stream",
     "text": [
      "354\n"
     ]
    }
   ],
   "source": [
    "from logisticregression import LogisticRegression\n",
    "from nplogreg import LogRegNp\n",
    "from preprocessing import load_to_array\n",
    "from random import shuffle\n",
    "import numpy as np\n",
    "import matplotlib.pyplot as plt\n",
    "\n",
    "def f_measure(predictor, X, y):\n",
    "\n",
    "  true_positive = 0\n",
    "  false_positive = 0\n",
    "  true_negative = 0\n",
    "  false_negative = 0\n",
    "\n",
    "  for i in range(len(X)):\n",
    "    prediction = predictor.predict(X[i])\n",
    "    if prediction > 0.5:\n",
    "      prediction = 1\n",
    "    else:\n",
    "      prediction = 0\n",
    "    if y[i] == 1:\n",
    "      if prediction == 1:\n",
    "        true_positive += 1\n",
    "      else:\n",
    "        false_positive += 1\n",
    "    elif y[i] == 0:\n",
    "      if prediction == 0:\n",
    "        true_negative += 1\n",
    "      else:\n",
    "        false_negative += 1\n",
    "  \n",
    "  try:\n",
    "    precision = true_positive / (true_positive + false_positive)\n",
    "    recall = true_positive / (true_positive + false_negative)\n",
    "  except:\n",
    "    return np.nan\n",
    "\n",
    "  if true_positive == 0:\n",
    "    return 0\n",
    "  return (2 * precision * recall) / (precision + recall)\n",
    "\n",
    "\n",
    "def load_data(fileName):\n",
    "    data = []\n",
    "    with open(fileName, 'r') as theFile:\n",
    "        lines = theFile.read().split('\\n')[1:]\n",
    "        print(len(lines))\n",
    "        for i, l in enumerate(lines):\n",
    "            current = []\n",
    "            for attr in l.split(',')[:25]:\n",
    "              try:\n",
    "                current.append(float(attr))\n",
    "              except:\n",
    "                print(i, l, attr)\n",
    "            data.append(current)\n",
    "\n",
    "    return data\n",
    "\n",
    "\n",
    "\n",
    "data = load_data('chronic_kidney_disease_full.1.csv')\n",
    "\n",
    "shuffle(data)\n",
    "\n",
    "\n",
    "train_X = np.array([d[:len(d)-2] for d in data[:int(len(data) * .8)]])\n",
    "train_y = np.array([d[len(d)-1] for d in data[:int(len(data) * .8)]])\n",
    "\n",
    "test_X = np.array([d[:len(d)-2] for d in data[int(len(data) * 0.2):]])\n",
    "test_y = np.array([d[len(d)-1] for d in data[int(len(data) * 0.2):]])\n",
    "\n",
    "  \n",
    "logistic = LogRegNp()\n",
    "\n"
   ]
  },
  {
   "cell_type": "markdown",
   "metadata": {},
   "source": [
    "### Un-Normalized Data Results\n",
    "Takes a while to run, and produces some errors early on when dealing with such bad data.\n"
   ]
  },
  {
   "cell_type": "code",
   "execution_count": null,
   "metadata": {},
   "outputs": [],
   "source": [
    "training_set = []\n",
    "test_set = []\n",
    "for lam_bda in np.arange(-2.0, 4.0, 0.2):\n",
    "    logistic.fit(train_X, train_y, lam_bda=lam_bda)\n",
    "    training_set.append([lam_bda, f_measure(logistic, train_X, train_y)])\n",
    "    test_set.append([lam_bda, f_measure(logistic, test_X, test_y)])\n",
    "\n",
    "\n",
    "plt.plot([v[0] for v in training_set], [v[1] for v in training_set])\n",
    "plt.xlabel(\"Lambda\")\n",
    "plt.ylabel(\"F-Measure\")\n",
    "plt.title(\"Un-Normalized Training Data\")\n",
    "plt.show()\n",
    "plt.plot([v[0] for v in test_set], [v[1] for v in test_set])\n",
    "plt.title(\"Un-Normalized Test Data\")\n",
    "plt.show()"
   ]
  },
  {
   "cell_type": "markdown",
   "metadata": {},
   "source": [
    "### Normalized Data Results"
   ]
  },
  {
   "cell_type": "code",
   "execution_count": null,
   "metadata": {},
   "outputs": [],
   "source": [
    "train_X = train_X / np.linalg.norm(train_X) # Normalization\n",
    "test_X = test_X / np.linalg.norm(test_X) # Normalization\n",
    "\n",
    "training_set = []\n",
    "test_set = []\n",
    "for lam_bda in np.arange(-2.0, 4.0, 0.2):\n",
    "    log.fit(train_X, train_y, lam_bda=lam_bda)\n",
    "    training_set.append([lam_bda, f_measure(log, train_X, train_y)])\n",
    "    test_set.append([lam_bda, f_measure(log, test_X, test_y)])\n",
    "\n",
    "plt.plot([v[0] for v in training_set], [v[1] for v in training_set])\n",
    "plt.xlabel(\"Lambda\")\n",
    "plt.ylabel(\"F-Measure\")\n",
    "plt.title(\"Normalized Training Data\")\n",
    "plt.show()\n",
    "plt.plot([v[0] for v in test_set], [v[1] for v in test_set])\n",
    "plt.title(\"Normalized Test Data\")\n",
    "plt.show()"
   ]
  },
  {
   "attachments": {
    "Figure_1-1.png": {
     "image/png": "[encoded data removed]"
    },
    "Figure_1.png": {
     "image/png": "[encoded data removed]"
    }
   },
   "cell_type": "markdown",
   "metadata": {},
   "source": [
    "### Results\n",
    "\n",
    "#### For un-normalized data the variance was too large and logistic regression was not able to converge on answer.\n",
    "\n",
    "#### For normalized data here are the results with varying lambda.\n",
    "\n",
    "Training Data Graph:\n",
    "![Figure_1.png](attachment:Figure_1.png)\n",
    "\n",
    "Test Data Graph:\n",
    "![Figure_1-1.png](attachment:Figure_1-1.png)"
   ]
  },
  {
   "cell_type": "markdown",
   "metadata": {},
   "source": [
    "# Problem 3"
   ]
  },
  {
   "cell_type": "code",
   "execution_count": 20,
   "metadata": {},
   "outputs": [],
   "source": [
    "from sklearn.datasets import load_digits\n",
    "from sklearn.metrics import fowlkes_mallows_score\n",
    "from sklearn.cluster import AgglomerativeClustering, AffinityPropagation\n",
    "\n",
    "## Load Data\n",
    "data, target = load_digits(return_X_y=True)\n",
    "\n",
    "# Processing Functions\n",
    "# Conversion Function from cluster numbers to actual numbers\n",
    "# THen relabels all numbers with actual numbers based on frequency\n",
    "def conversion(matrix, labels):\n",
    "    conversion = {}\n",
    "    for t_i, targ in enumerate(matrix):\n",
    "        max_cluster = None\n",
    "        for c_i, cluster in enumerate(targ):\n",
    "            if max_cluster is None or cluster > targ[max_cluster]:\n",
    "                max_cluster = c_i\n",
    "\n",
    "            conversion[t_i] = max_cluster\n",
    "\n",
    "    return [conversion[l] for l in labels]\n",
    "\n",
    "\n",
    "# Create Confusion Matrix given clustering labels and target\n",
    "def confusion_matrix(labels, target):\n",
    "    matrix = [[0 for _ in range(10)] for __ in range(10)]\n",
    "\n",
    "    for i, val in enumerate(labels):\n",
    "        matrix[target[i]][val] += 1\n",
    "    \n",
    "    return matrix\n",
    "\n",
    "# Displays confusion matrix with labels\n",
    "def display_matrix(matrix):\n",
    "    print('\\t\\tCluster', end='\\n\\t')\n",
    "    [print(\"{:3d}\".format(i), end=' ') for i in range(10)]\n",
    "    print('', end='\\n       ')\n",
    "    [print(\"----\", end='') for i in range(10)]\n",
    "    target = \"Target\"\n",
    "    print('')\n",
    "    for x in range(10):\n",
    "        if x < len(target):\n",
    "            print(target[x], end='   ')\n",
    "        else:\n",
    "            print('', end='    ')\n",
    "        print(x, end=' | ')\n",
    "        for y in range(10):\n",
    "            print(\"{:3d}\".format(matrix[x][y]), end=' ')\n",
    "        print('')\n",
    "        "
   ]
  },
  {
   "cell_type": "markdown",
   "metadata": {},
   "source": [
    "## K-Means\n",
    "Results seem to be heavily dependent on the random cluster initialization.\n",
    "Sometimes has a score of 0.4 other times a score of 0.57."
   ]
  },
  {
   "cell_type": "code",
   "execution_count": 21,
   "metadata": {},
   "outputs": [
    {
     "name": "stdout",
     "output_type": "stream",
     "text": [
      "K-Means Fowlkes-Mallows Score:  0.47733210975855844\n",
      "Grid for K-Means\n",
      "\t\tCluster\n",
      "\t  0   1   2   3   4   5   6   7   8   9 \n",
      "       ----------------------------------------\n",
      "T   0 |   2   0   0   0  15   0 152   0   7   2 \n",
      "a   1 |   1  76   0  18   1   2   0  28  39  17 \n",
      "r   2 |   0  67   8  91   4   0   0   0   0   7 \n",
      "g   3 |   0   3 144   3   8   0   0   9   0  16 \n",
      "e   4 |   0   2   0   0   1  35   7   2 111  23 \n",
      "t   5 |   1   2   0   0 134   0   2  41   1   1 \n",
      "    6 | 118   0   0   0   0   0  50   0  13   0 \n",
      "    7 |   0  20   2   0   0   1   0   6   0 150 \n",
      "    8 |   2  25  44  10  22   0   0  12  13  46 \n",
      "    9 |   0   0  26   2 124   0   0   5  11  12 \n"
     ]
    }
   ],
   "source": [
    "# Convert to data format required for k-means\n",
    "kmeans_data = [Point(val) for val in data]\n",
    "k_means = kmeans(kmeans_data, 10)\n",
    "\n",
    "# Create predictions for all labels that match clustering\n",
    "labels = []\n",
    "for point in data:\n",
    "    labels.append(predict(k_means, Point(point)))\n",
    "\n",
    "# Turn target into integers from numpy.int32\n",
    "target = [int(num) for num in target]\n",
    "\n",
    "matrix = confusion_matrix(labels, target)\n",
    "\n",
    "labels = conversion(matrix, labels)\n",
    "\n",
    "print(\"K-Means Fowlkes-Mallows Score: \", fowlkes_mallows_score(target[:200], labels[:200]))\n",
    "print(\"Grid for K-Means\")\n",
    "\n",
    "display_matrix(matrix)\n"
   ]
  },
  {
   "cell_type": "markdown",
   "metadata": {},
   "source": [
    "## Agglomerative Clustering"
   ]
  },
  {
   "cell_type": "code",
   "execution_count": 15,
   "metadata": {},
   "outputs": [
    {
     "name": "stdout",
     "output_type": "stream",
     "text": [
      "Fowlkes-Mallows Score:  0.8028193791422215\n",
      "Confusion Matrix\n",
      "\t\tCluster\n",
      "\t  0   1   2   3   4   5   6   7   8   9 \n",
      "       ----------------------------------------\n",
      "T   0 |   0   0   0   0   0   0   0 178   0   0 \n",
      "a   1 |   0   0  27   0   0   0   0   0  59  96 \n",
      "r   2 |   0   0 166   1  10   0   0   0   0   0 \n",
      "g   3 |   0 169   0   1  13   0   0   0   0   0 \n",
      "e   4 |   0   0   0   3   0 178   0   0   0   0 \n",
      "t   5 | 179   2   0   0   0   0   1   0   0   0 \n",
      "    6 |   0   0   0   0   1   0 180   0   0   0 \n",
      "    7 |   0   0   0 179   0   0   0   0   0   0 \n",
      "    8 |   0   1   4   1 165   0   0   0   1   2 \n",
      "    9 |   2 145   0  11   2   0   0   0  20   0 \n"
     ]
    }
   ],
   "source": [
    "agglo = AgglomerativeClustering(n_clusters=10, linkage=\"ward\")\n",
    "\n",
    "clustering = agglo.fit(data)\n",
    "\n",
    "labels = clustering.labels_\n",
    "\n",
    "matrix = confusion_matrix(labels, target)\n",
    "\n",
    "labels = conversion(matrix, labels)\n",
    "\n",
    "\n",
    "print(\"Fowlkes-Mallows Score: \", fowlkes_mallows_score(target[:500], labels[:500]))\n",
    "print(\"Confusion Matrix\")\n",
    "\n",
    "display_matrix(matrix)"
   ]
  },
  {
   "cell_type": "markdown",
   "metadata": {},
   "source": [
    "## Affinity Propagation Clustering\n",
    "Used a preference of -50000 in order to have 10 clusters in results instead of 103 without any preference.\n",
    "Takes a good chunk of time to run"
   ]
  },
  {
   "cell_type": "code",
   "execution_count": 22,
   "metadata": {},
   "outputs": [
    {
     "name": "stdout",
     "output_type": "stream",
     "text": [
      "Fowlkes-Mallows Score:  0.6399130380006586\n",
      "Confusion Matrix\n",
      "\t\tCluster\n",
      "\t  0   1   2   3   4   5   6   7   8   9 \n",
      "       ----------------------------------------\n",
      "T   0 |   0   0   0   1 176   0   0   0   1   0 \n",
      "a   1 |   2  52   0   0   0   0 105  22   0   1 \n",
      "r   2 |   0   0  10   0   2   9   8 140   0   8 \n",
      "g   3 |   5   0 139   0   1   6   0   2   0  30 \n",
      "e   4 |   2   9   0   0   0   6  10   0 154   0 \n",
      "t   5 | 104   1   4   7   3   2   1   0   1  59 \n",
      "    6 |   1   0   0 172   1   0   7   0   0   0 \n",
      "    7 |   0   0   0   0   0 170   9   0   0   0 \n",
      "    8 |  22   6  29   0   7   5  88   3   1  13 \n",
      "    9 |   4  17   7   0   9   8   0   0   0 135 \n"
     ]
    }
   ],
   "source": [
    "aff = AffinityPropagation(preference=-50000)\n",
    "clustering = aff.fit(data)\n",
    "\n",
    "labels = clustering.labels_\n",
    "\n",
    "matrix = confusion_matrix(labels, target)\n",
    "\n",
    "labels = conversion(matrix, labels)\n",
    "\n",
    "\n",
    "print(\"Fowlkes-Mallows Score: \", fowlkes_mallows_score(target[:500], labels[:500]))\n",
    "print(\"Confusion Matrix\")\n",
    "\n",
    "display_matrix(matrix)"
   ]
  },
  {
   "cell_type": "markdown",
   "metadata": {},
   "source": [
    "# Problem 4"
   ]
  },
  {
   "cell_type": "code",
   "execution_count": 32,
   "metadata": {},
   "outputs": [],
   "source": [
    "def load_data(fileName):\n",
    "    data = []\n",
    "    with open(fileName, 'r') as theFile:\n",
    "        lines = theFile.read().split('\\n')[1:]\n",
    "        for i, l in enumerate(lines):\n",
    "            current = []\n",
    "            for attr in l.split(',')[:25]:\n",
    "              try:\n",
    "                current.append(float(attr))\n",
    "              except:\n",
    "                print(i, l, attr)\n",
    "            data.append(current)\n",
    "\n",
    "    return data\n",
    "\n",
    "def f_measure(predictor, X, y):\n",
    "\n",
    "  true_positive = 0\n",
    "  false_positive = 0\n",
    "  true_negative = 0\n",
    "  false_negative = 0\n",
    "\n",
    "  for i in range(len(X)):\n",
    "    prediction = clf.predict([X[i]])\n",
    "    if y[i] == 1:\n",
    "      if prediction == 1:\n",
    "        true_positive += 1\n",
    "      else:\n",
    "        false_positive += 1\n",
    "    elif y[i] == 0:\n",
    "      if prediction == 0:\n",
    "        true_negative += 1\n",
    "      else:\n",
    "        false_negative += 1\n",
    "\n",
    "  precision = true_positive / (true_positive + false_positive)\n",
    "  recall = true_positive / (true_positive + false_negative)\n",
    "\n",
    "  return (2 * precision * recall) / (precision + recall)\n",
    "\n",
    "\n",
    "data = load_data(\"chronic_kidney_disease_full.1.csv\")\n",
    "\n",
    "train_X = np.array([d[:len(d)-2] for d in data[:int(len(data) * .8)]])\n",
    "train_y = np.array([d[len(d)-1] for d in data[:int(len(data) * .8)]])\n",
    "\n",
    "test_X = np.array([d[:len(d)-2] for d in data[int(len(data) * 0.2):]])\n",
    "test_y = np.array([d[len(d)-1] for d in data[int(len(data) * 0.2):]])\n"
   ]
  },
  {
   "cell_type": "markdown",
   "metadata": {},
   "source": [
    "## SVC Linear"
   ]
  },
  {
   "cell_type": "code",
   "execution_count": 37,
   "metadata": {},
   "outputs": [
    {
     "name": "stdout",
     "output_type": "stream",
     "text": [
      "SVC linear training set f-measure:  0.9854368932038836\n",
      "SVC linear test set f-measure:  0.9745454545454545\n"
     ]
    }
   ],
   "source": [
    "from sklearn.svm import SVC\n",
    "\n",
    "clf = SVC(kernel='linear')\n",
    "clf.fit(train_X, train_y)\n",
    "\n",
    "print(\"SVC linear training set f-measure: \", f_measure(clf, train_X, train_y))\n",
    "print(\"SVC linear test set f-measure: \", f_measure(clf, test_X, test_y))"
   ]
  },
  {
   "cell_type": "markdown",
   "metadata": {},
   "source": [
    "## SVC rbf"
   ]
  },
  {
   "cell_type": "code",
   "execution_count": 36,
   "metadata": {},
   "outputs": [
    {
     "name": "stdout",
     "output_type": "stream",
     "text": [
      "SVC rbf training set f-measure:  1.0\n",
      "SVC rbf test set f-measure:  0.7917888563049854\n"
     ]
    }
   ],
   "source": [
    "clf = SVC(kernel='rbf')\n",
    "clf.fit(train_X, train_y)\n",
    "\n",
    "print(\"SVC rbf training set f-measure: \", f_measure(clf, train_X, train_y))\n",
    "print(\"SVC rbf test set f-measure: \", f_measure(clf, test_X, test_y))"
   ]
  },
  {
   "cell_type": "markdown",
   "metadata": {},
   "source": [
    "## Random Forest Classifier"
   ]
  },
  {
   "cell_type": "code",
   "execution_count": 35,
   "metadata": {},
   "outputs": [
    {
     "name": "stdout",
     "output_type": "stream",
     "text": [
      "Random Forest training set f-measure:  1.0\n",
      "Random Forest test set f-measure:  0.996309963099631\n"
     ]
    }
   ],
   "source": [
    "from sklearn.ensemble import RandomForestClassifier\n",
    "\n",
    "clf = RandomForestClassifier()\n",
    "clf.fit(train_X, train_y)\n",
    "\n",
    "print(\"Random Forest training set f-measure: \", f_measure(clf, train_X, train_y))\n",
    "print(\"Random Forest test set f-measure: \", f_measure(clf, test_X, test_y))"
   ]
  },
  {
   "cell_type": "code",
   "execution_count": null,
   "metadata": {},
   "outputs": [],
   "source": []
  }
 ],
 "metadata": {
  "kernelspec": {
   "display_name": "Python 3",
   "language": "python",
   "name": "python3"
  },
  "language_info": {
   "codemirror_mode": {
    "name": "ipython",
    "version": 3
   },
   "file_extension": ".py",
   "mimetype": "text/x-python",
   "name": "python",
   "nbconvert_exporter": "python",
   "pygments_lexer": "ipython3",
   "version": "3.5.2"
  }
 },
 "nbformat": 4,
 "nbformat_minor": 2
}
